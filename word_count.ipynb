{
  "nbformat": 4,
  "nbformat_minor": 0,
  "metadata": {
    "colab": {
      "name": "word_count",
      "provenance": [],
      "include_colab_link": true
    },
    "kernelspec": {
      "name": "python3",
      "display_name": "Python 3"
    }
  },
  "cells": [
    {
      "cell_type": "markdown",
      "metadata": {
        "id": "view-in-github",
        "colab_type": "text"
      },
      "source": [
        "<a href=\"https://colab.research.google.com/github/mariacharina17/For-the-Women/blob/master/word_count.ipynb\" target=\"_parent\"><img src=\"https://colab.research.google.com/assets/colab-badge.svg\" alt=\"Open In Colab\"/></a>"
      ]
    },
    {
      "cell_type": "code",
      "metadata": {
        "id": "TrDjXmDQjGpB",
        "colab_type": "code",
        "colab": {}
      },
      "source": [
        "from collections import Counter"
      ],
      "execution_count": 0,
      "outputs": []
    },
    {
      "cell_type": "code",
      "metadata": {
        "id": "nftGngVajSO8",
        "colab_type": "code",
        "colab": {}
      },
      "source": [
        "def word_count(filename):\n",
        "  with open(filename) as f:\n",
        "    return Counter (f.read().split())"
      ],
      "execution_count": 0,
      "outputs": []
    },
    {
      "cell_type": "code",
      "metadata": {
        "id": "7O8oW3bFjk2z",
        "colab_type": "code",
        "colab": {
          "base_uri": "https://localhost:8080/",
          "height": 1000
        },
        "outputId": "7fa5cb0b-51eb-4365-917d-6a3f01d357c6"
      },
      "source": [
        "counter = word_count(\"when.txt\")\n",
        "for i in counter:\n",
        "  print (i, ':', counter[i])\n",
        "\n"
      ],
      "execution_count": 3,
      "outputs": [
        {
          "output_type": "stream",
          "text": [
            "When : 10\n",
            "We : 4\n",
            "Were : 1\n",
            "Young : 1\n",
            "Everybody : 2\n",
            "loves : 1\n",
            "the : 6\n",
            "things : 1\n",
            "you : 14\n",
            "do : 1\n",
            "From : 1\n",
            "way : 2\n",
            "talk : 1\n",
            "To : 3\n",
            "move : 1\n",
            "here : 3\n",
            "is : 4\n",
            "watching : 1\n",
            "'Cause : 2\n",
            "feel : 1\n",
            "like : 17\n",
            "home : 1\n",
            "You're : 1\n",
            "a : 15\n",
            "dream : 1\n",
            "come : 1\n",
            "true : 1\n",
            "But : 1\n",
            "if : 1\n",
            "by : 2\n",
            "chance : 1\n",
            "you're : 2\n",
            "alone : 1\n",
            "Can : 1\n",
            "I : 7\n",
            "have : 1\n",
            "moment : 1\n",
            "Before : 4\n",
            "go? : 1\n",
            "I've : 1\n",
            "been : 1\n",
            "myself : 1\n",
            "all : 1\n",
            "night : 1\n",
            "long : 1\n",
            "Hoping : 1\n",
            "someone : 1\n",
            "used : 1\n",
            "to : 3\n",
            "know : 1\n",
            "You : 4\n",
            "look : 2\n",
            "movie : 6\n",
            "sound : 2\n",
            "song : 6\n",
            "My : 3\n",
            "God, : 3\n",
            "this : 6\n",
            "reminds : 3\n",
            "me : 11\n",
            "Of : 3\n",
            "when : 6\n",
            "we : 21\n",
            "were : 20\n",
            "young : 12\n",
            "Let : 3\n",
            "photograph : 3\n",
            "in : 4\n",
            "light : 3\n",
            "In : 3\n",
            "case : 4\n",
            "it : 4\n",
            "last : 3\n",
            "time : 3\n",
            "That : 3\n",
            "might : 3\n",
            "be : 4\n",
            "exactly : 3\n",
            "realized : 3\n",
            "sad : 3\n",
            "of : 4\n",
            "getting : 4\n",
            "old : 4\n",
            "It : 12\n",
            "made : 3\n",
            "us : 3\n",
            "restless : 3\n",
            "was : 9\n",
            "just : 9\n",
            "so : 2\n",
            "scared : 1\n",
            "face : 1\n",
            "my : 1\n",
            "fears : 1\n",
            "Nobody : 1\n",
            "told : 1\n",
            "that : 2\n",
            "you'd : 1\n",
            "And : 2\n",
            "swear : 1\n",
            "moved : 1\n",
            "overseas : 1\n",
            "That's : 1\n",
            "what : 1\n",
            "said, : 1\n",
            "left : 1\n",
            "still : 4\n",
            "It's : 1\n",
            "hard : 1\n",
            "admit : 1\n",
            "Everything : 1\n",
            "takes : 1\n",
            "back : 1\n",
            "there : 2\n",
            "part : 1\n",
            "keeps : 1\n",
            "holding : 1\n",
            "on : 1\n",
            "Just : 1\n",
            "hasn't : 1\n",
            "gone : 1\n",
            "guess : 1\n",
            "care : 1\n",
            "Do : 1\n",
            "care? : 1\n",
            "Oh, : 1\n",
            "I'm : 2\n",
            "mad : 1\n",
            "makes : 1\n",
            "reckless : 1\n"
          ],
          "name": "stdout"
        }
      ]
    },
    {
      "cell_type": "code",
      "metadata": {
        "id": "0WWE-Qh2kDyZ",
        "colab_type": "code",
        "colab": {}
      },
      "source": [
        ""
      ],
      "execution_count": 0,
      "outputs": []
    }
  ]
}